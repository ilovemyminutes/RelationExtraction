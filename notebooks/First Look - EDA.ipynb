{
 "metadata": {
  "language_info": {
   "codemirror_mode": {
    "name": "ipython",
    "version": 3
   },
   "file_extension": ".py",
   "mimetype": "text/x-python",
   "name": "python",
   "nbconvert_exporter": "python",
   "pygments_lexer": "ipython3",
   "version": "3.7.7-final"
  },
  "orig_nbformat": 2,
  "kernelspec": {
   "name": "python377jvsc74a57bd098b0a9b7b4eaaa670588a142fd0a9b87eaafe866f1db4228be72b4211d12040f",
   "display_name": "Python 3.7.7 64-bit ('base': conda)"
  }
 },
 "nbformat": 4,
 "nbformat_minor": 2,
 "cells": [
  {
   "cell_type": "code",
   "execution_count": 1,
   "metadata": {},
   "outputs": [],
   "source": [
    "import os\n",
    "import sys\n",
    "from glob import glob\n",
    "from konlpy.tag import Mecab\n",
    "import pandas as pd \n",
    "import numpy as np\n",
    "\n",
    "import matplotlib.pyplot as plt\n",
    "import seaborn as sns\n",
    "import matplotlib as mpl\n",
    "import matplotlib.font_manager as fm\n",
    "\n",
    "font_path = '/etc/fonts/NanumGothicBold.ttf'\n",
    "font_prop = fm.FontProperties(fname=font_path, size=12)\n",
    "prop = fm.FontProperties(fname=font_path)\n",
    "mpl.rcParams['font.family'] = prop.get_name()\n",
    "\n",
    "plt.style.use('ggplot')\n",
    "mpl.rcParams['axes.unicode_minus'] = False\n",
    "\n",
    "sys.path.insert(0, '../')\n",
    "from utils import load_pickle\n",
    "from load_data import load_data\n",
    "from config import Config"
   ]
  },
  {
   "cell_type": "code",
   "execution_count": 1,
   "metadata": {},
   "outputs": [],
   "source": [
    "import numpy as np"
   ]
  },
  {
   "cell_type": "code",
   "execution_count": 3,
   "metadata": {},
   "outputs": [],
   "source": [
    "temp = np.array([1,2,3])"
   ]
  },
  {
   "cell_type": "code",
   "execution_count": 2,
   "metadata": {},
   "outputs": [],
   "source": [
    "fm.get_fontconfig_fonts()\n",
    "font_path = '/etc/fonts/NanumGothicBold.ttf'\n",
    "font_name = fm.FontProperties(fname=font_path).get_name()\n",
    "plt.rc('font', family=font_name)"
   ]
  },
  {
   "source": [
    "# EDA를 해봅시다\n",
    "- NOTE: entity1과 entity2의 관계는 비가역"
   ],
   "cell_type": "markdown",
   "metadata": {}
  },
  {
   "cell_type": "code",
   "execution_count": 4,
   "metadata": {},
   "outputs": [],
   "source": [
    "relations = load_pickle('../input/data/label_type.pkl')\n",
    "inverse_relations = {i:j for j, i in relations.items()}"
   ]
  },
  {
   "cell_type": "code",
   "execution_count": 5,
   "metadata": {},
   "outputs": [
    {
     "output_type": "stream",
     "name": "stdout",
     "text": [
      "(9000, 4)\n"
     ]
    }
   ],
   "source": [
    "train_raw = load_data(Config.Train)\n",
    "train_raw.head()\n",
    "\n",
    "TRAIN_SIZE = train_raw.shape[0]\n",
    "print(train_raw.shape)"
   ]
  },
  {
   "cell_type": "code",
   "execution_count": 6,
   "metadata": {},
   "outputs": [
    {
     "output_type": "stream",
     "name": "stdout",
     "text": [
      "Uniqueness for Entity 1: 5089\nUniqueness for Entity 2: 4474\nIntersection between Entities: 694\nIntersection Rate:  0.0771\n"
     ]
    }
   ],
   "source": [
    "print(f\"Uniqueness for Entity 1: {train_raw['entity_01'].nunique()}\")\n",
    "print(f\"Uniqueness for Entity 2: {train_raw['entity_02'].nunique()}\")\n",
    "print(f\"Intersection between Entities: {len(set(train_raw['entity_01']).intersection(set(train_raw['entity_02'])))}\")\n",
    "print(f\"Intersection Rate: {len(set(train_raw['entity_01']).intersection(set(train_raw['entity_02']))) / TRAIN_SIZE: .4f}\")"
   ]
  },
  {
   "cell_type": "code",
   "execution_count": 10,
   "metadata": {},
   "outputs": [
    {
     "output_type": "execute_result",
     "data": {
      "text/plain": [
       "0       17\n",
       "1        0\n",
       "2        6\n",
       "3        2\n",
       "4        8\n",
       "        ..\n",
       "8995     0\n",
       "8996     9\n",
       "8997     2\n",
       "8998     0\n",
       "8999     2\n",
       "Name: label, Length: 9000, dtype: int64"
      ]
     },
     "metadata": {},
     "execution_count": 10
    }
   ],
   "source": [
    "train_raw['label']"
   ]
  },
  {
   "cell_type": "code",
   "execution_count": 8,
   "metadata": {},
   "outputs": [
    {
     "output_type": "execute_result",
     "data": {
      "text/plain": [
       "0       영국에서 사용되는 스포츠 유틸리티 자동차의 브랜드로는 랜드로버(Land Rover)...\n",
       "1       선거에서 민주당은 해산 전 의석인 230석에 한참 못 미치는 57석(지역구 27석,...\n",
       "2       유럽 축구 연맹(UEFA) 집행위원회는 2014년 1월 24일에 열린 회의를 통해 ...\n",
       "3       용병 공격수 챠디의 부진과 시즌 초 활약한 강수일의 침체, 시즌 중반에 영입한 세르...\n",
       "4       람캄행 왕은 1237년에서 1247년 사이 수코타이의 왕 퍼쿤 씨 인트라팃과 쓰엉 ...\n",
       "                              ...                        \n",
       "8995    2002년 FIFA 월드컵 사우디아라비아와의 1차전에서 독일은 8-0으로 승리하였는...\n",
       "8996    일본의 2대 메이커인 토요타와 닛산은 시장 점유율을 높이기 위한 신차 개발을 계속하...\n",
       "8997    방호의의 손자 방덕룡(方德龍)은 1588년(선조 21년) 무과에 급제하고 낙안군수로...\n",
       "8998    LG전자는 올해 초 국내시장에 출시한 2020년형 ‘LG 그램’ 시리즈를 이달부터 ...\n",
       "8999    전남도의회 안전건설소방위원회 차영수 의원(강진1)은 지난 14일 설 명절을 앞두고 ...\n",
       "Name: sentence, Length: 9000, dtype: object"
      ]
     },
     "metadata": {},
     "execution_count": 8
    }
   ],
   "source": [
    "train_raw['sentence']"
   ]
  },
  {
   "cell_type": "code",
   "execution_count": null,
   "metadata": {},
   "outputs": [],
   "source": []
  },
  {
   "cell_type": "code",
   "execution_count": 13,
   "metadata": {},
   "outputs": [
    {
     "output_type": "execute_result",
     "data": {
      "text/plain": [
       "8869"
      ]
     },
     "metadata": {},
     "execution_count": 13
    }
   ],
   "source": [
    "train_raw "
   ]
  }
 ]
}