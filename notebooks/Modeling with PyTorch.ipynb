{
 "metadata": {
  "language_info": {
   "codemirror_mode": {
    "name": "ipython",
    "version": 3
   },
   "file_extension": ".py",
   "mimetype": "text/x-python",
   "name": "python",
   "nbconvert_exporter": "python",
   "pygments_lexer": "ipython3",
   "version": "3.7.7-final"
  },
  "orig_nbformat": 2,
  "kernelspec": {
   "name": "python377jvsc74a57bd098b0a9b7b4eaaa670588a142fd0a9b87eaafe866f1db4228be72b4211d12040f",
   "display_name": "Python 3.7.7 64-bit ('base': conda)"
  }
 },
 "nbformat": 4,
 "nbformat_minor": 2,
 "cells": [
  {
   "cell_type": "code",
   "execution_count": 1,
   "metadata": {},
   "outputs": [],
   "source": [
    "import os\n",
    "from glob import glob\n",
    "import sys\n",
    "import pandas as pd\n",
    "import torch\n",
    "from torch import nn, optim\n",
    "from torch.utils.data import Dataset, DataLoader\n",
    "\n",
    "sys.path.insert(0, '../')\n",
    "from dataset import REDataset, split_train_test_loader, load_data\n",
    "from models import load_model\n",
    "from tokenization import load_tokenizer\n",
    "from config import Config, ModelType, PreTrainedType, PreProcessType\n",
    "\n",
    "from tqdm import tqdm\n",
    "import numpy as np"
   ]
  },
  {
   "cell_type": "code",
   "execution_count": 2,
   "metadata": {},
   "outputs": [
    {
     "output_type": "stream",
     "name": "stdout",
     "text": [
      "Load Model...\tSome weights of the model checkpoint at bert-base-multilingual-cased were not used when initializing BertForSequenceClassification: ['cls.predictions.bias', 'cls.predictions.transform.dense.weight', 'cls.predictions.transform.dense.bias', 'cls.predictions.decoder.weight', 'cls.seq_relationship.weight', 'cls.seq_relationship.bias', 'cls.predictions.transform.LayerNorm.weight', 'cls.predictions.transform.LayerNorm.bias']\n",
      "- This IS expected if you are initializing BertForSequenceClassification from the checkpoint of a model trained on another task or with another architecture (e.g. initializing a BertForSequenceClassification model from a BertForPreTraining model).\n",
      "- This IS NOT expected if you are initializing BertForSequenceClassification from the checkpoint of a model that you expect to be exactly identical (initializing a BertForSequenceClassification model from a BertForSequenceClassification model).\n",
      "Some weights of BertForSequenceClassification were not initialized from the model checkpoint at bert-base-multilingual-cased and are newly initialized: ['classifier.weight', 'classifier.bias']\n",
      "You should probably TRAIN this model on a down-stream task to be able to use it for predictions and inference.\n",
      "done!\n"
     ]
    }
   ],
   "source": [
    "device = Config.Device\n",
    "model = load_model()"
   ]
  },
  {
   "cell_type": "code",
   "execution_count": 3,
   "metadata": {},
   "outputs": [
    {
     "output_type": "stream",
     "name": "stdout",
     "text": [
      "cuda:0\n"
     ]
    }
   ],
   "source": [
    "model.to(device)\n",
    "print(device)"
   ]
  },
  {
   "source": [
    "dataset = REDataset()\n",
    "train_loader, valid_loader = split_train_test_loader(dataset)"
   ],
   "cell_type": "code",
   "metadata": {},
   "execution_count": 9,
   "outputs": [
    {
     "output_type": "stream",
     "name": "stdout",
     "text": [
      "Load Tokenizer...\tdone!\n",
      "Load raw data...\tdone!\n",
      "Apply Tokenization...\tdone!\n"
     ]
    }
   ]
  },
  {
   "cell_type": "code",
   "execution_count": 10,
   "metadata": {},
   "outputs": [],
   "source": [
    "criterion = nn.CrossEntropyLoss()\n",
    "optimizer = optim.Adam(model.parameters(), lr=0.005)"
   ]
  },
  {
   "cell_type": "code",
   "execution_count": 11,
   "metadata": {},
   "outputs": [
    {
     "output_type": "stream",
     "name": "stdout",
     "text": [
      "train\n"
     ]
    }
   ],
   "source": [
    "model.train()\n",
    "print('train')"
   ]
  },
  {
   "cell_type": "code",
   "execution_count": 12,
   "metadata": {},
   "outputs": [
    {
     "output_type": "stream",
     "name": "stderr",
     "text": [
      "Train: 100%|██████████| 225/225 [00:54<00:00,  4.09it/s]\n"
     ]
    }
   ],
   "source": [
    "# ACC, RECALL, PRECISION, F1\n",
    "pred_list = []\n",
    "true_list = []\n",
    "\n",
    "# CE Loss\n",
    "total_loss = 0\n",
    "num_samples = 0\n",
    "\n",
    "for sentences, labels in tqdm(train_loader, desc='Train'):\n",
    "    outputs = model(**sentences).logits\n",
    "    loss = criterion(outputs, labels)\n",
    "    total_loss += loss.item()\n",
    "    \n",
    "    optimizer.zero_grad()\n",
    "    loss.backward()\n",
    "    optimizer.step()\n",
    "    \n",
    "    num_samples += len(labels)\n",
    "    \n",
    "    _, preds = torch.max(outputs, dim=1)\n",
    "    preds = preds.data.cpu().numpy()\n",
    "    labels = labels.data.cpu().numpy()\n",
    "\n",
    "    pred_list.append(preds)\n",
    "    true_list.append(labels)\n",
    "\n",
    "train_loss = total_loss / num_samples\n",
    "precision, recall, f1, _ = precision_recall_fscore_support(y_true=true_arr, y_pred=pred_arr, average='macro')\n"
   ]
  },
  {
   "cell_type": "code",
   "execution_count": 30,
   "metadata": {},
   "outputs": [],
   "source": [
    "true_arr = np.hstack(true_list)\n",
    "pred_arr = np.hstack(pred_list)"
   ]
  },
  {
   "source": [
    "Macro 통일"
   ],
   "cell_type": "markdown",
   "metadata": {}
  },
  {
   "cell_type": "code",
   "execution_count": 34,
   "metadata": {},
   "outputs": [],
   "source": [
    "from sklearn.metrics import accuracy_score, f1_score, recall_score, precision_score, precision_recall_fscore_support"
   ]
  },
  {
   "cell_type": "code",
   "execution_count": 42,
   "metadata": {},
   "outputs": [
    {
     "output_type": "stream",
     "name": "stderr",
     "text": [
      "/opt/conda/lib/python3.7/site-packages/sklearn/metrics/_classification.py:1245: UndefinedMetricWarning: Precision and F-score are ill-defined and being set to 0.0 in labels with no predicted samples. Use `zero_division` parameter to control this behavior.\n  _warn_prf(average, modifier, msg_start, len(result))\n"
     ]
    },
    {
     "output_type": "execute_result",
     "data": {
      "text/plain": [
       "(0.022919117099058264, 0.024378546196001, 0.019240300806075167, None)"
      ]
     },
     "metadata": {},
     "execution_count": 42
    }
   ],
   "source": [
    "precision, recall, f1, _ = precision_recall_fscore_support(y_true=true_arr, y_pred=pred_arr, average='macro')\n"
   ]
  },
  {
   "cell_type": "code",
   "execution_count": 18,
   "metadata": {},
   "outputs": [
    {
     "output_type": "stream",
     "name": "stdout",
     "text": [
      "474 µs ± 659 ns per loop (mean ± std. dev. of 7 runs, 1000 loops each)\n"
     ]
    }
   ],
   "source": [
    "def foo():\n",
    "    accuracy_score(y_true=true_np, y_pred=pred_np)\n",
    "\n",
    "%timeit foo()\n"
   ]
  },
  {
   "cell_type": "code",
   "execution_count": 59,
   "metadata": {},
   "outputs": [
    {
     "output_type": "execute_result",
     "data": {
      "text/plain": [
       "tensor(3.3002, device='cuda:0', grad_fn=<NllLossBackward>)"
      ]
     },
     "metadata": {},
     "execution_count": 59
    }
   ],
   "source": [
    "loss"
   ]
  },
  {
   "cell_type": "code",
   "execution_count": 60,
   "metadata": {},
   "outputs": [
    {
     "output_type": "execute_result",
     "data": {
      "text/plain": [
       "tensor(3.3002, device='cuda:0', grad_fn=<NllLossBackward>)"
      ]
     },
     "metadata": {},
     "execution_count": 60
    }
   ],
   "source": [
    "loss.backward()\n",
    "loss"
   ]
  },
  {
   "cell_type": "code",
   "execution_count": 34,
   "metadata": {},
   "outputs": [
    {
     "output_type": "execute_result",
     "data": {
      "text/plain": [
       "array([ 0,  0,  0,  1,  0,  0, 22, 25,  6,  7,  0, 10, 33,  0,  0,  5,  5,\n",
       "        0,  4, 21,  2,  3,  0, 21,  0,  0,  0,  4,  0,  0,  0,  4])"
      ]
     },
     "metadata": {},
     "execution_count": 34
    }
   ],
   "source": [
    "labels.detach().cpu().numpy()"
   ]
  },
  {
   "cell_type": "code",
   "execution_count": 31,
   "metadata": {},
   "outputs": [
    {
     "output_type": "execute_result",
     "data": {
      "text/plain": [
       "array([16, 16, 27,  0, 16,  3,  3,  0,  7, 31, 40,  3, 16, 27,  3,  3, 16,\n",
       "        3,  0,  7,  3, 16, 16, 11, 40,  0, 33, 16, 11, 31, 33,  3])"
      ]
     },
     "metadata": {},
     "execution_count": 31
    }
   ],
   "source": []
  },
  {
   "cell_type": "code",
   "execution_count": 22,
   "metadata": {},
   "outputs": [
    {
     "output_type": "execute_result",
     "data": {
      "text/plain": [
       "tensor(3.6168, device='cuda:0', grad_fn=<NllLossBackward>)"
      ]
     },
     "metadata": {},
     "execution_count": 22
    }
   ],
   "source": [
    "criterion(output, label)"
   ]
  },
  {
   "cell_type": "code",
   "execution_count": 14,
   "metadata": {},
   "outputs": [
    {
     "output_type": "execute_result",
     "data": {
      "text/plain": [
       "tensor([[ 0.2404,  0.1699, -0.2687,  ..., -0.1668,  0.2764,  0.2006],\n",
       "        [ 0.3447, -0.1557, -0.1958,  ..., -0.2912,  0.1015,  0.1041],\n",
       "        [ 0.1219,  0.0252, -0.1080,  ..., -0.1125,  0.2804,  0.2249],\n",
       "        ...,\n",
       "        [ 0.3234, -0.0316, -0.1043,  ..., -0.1559,  0.2202,  0.1416],\n",
       "        [ 0.5335, -0.2708, -0.1581,  ...,  0.0153,  0.1181,  0.1537],\n",
       "        [ 0.2040, -0.0679, -0.0913,  ..., -0.0946,  0.1621,  0.1360]],\n",
       "       device='cuda:0', grad_fn=<AddmmBackward>)"
      ]
     },
     "metadata": {},
     "execution_count": 14
    }
   ],
   "source": [
    "output.logits"
   ]
  }
 ]
}