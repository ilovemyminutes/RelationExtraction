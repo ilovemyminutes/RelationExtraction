{
 "metadata": {
  "language_info": {
   "codemirror_mode": {
    "name": "ipython",
    "version": 3
   },
   "file_extension": ".py",
   "mimetype": "text/x-python",
   "name": "python",
   "nbconvert_exporter": "python",
   "pygments_lexer": "ipython3",
   "version": "3.7.7-final"
  },
  "orig_nbformat": 2,
  "kernelspec": {
   "name": "python377jvsc74a57bd098b0a9b7b4eaaa670588a142fd0a9b87eaafe866f1db4228be72b4211d12040f",
   "display_name": "Python 3.7.7 64-bit ('base': conda)"
  }
 },
 "nbformat": 4,
 "nbformat_minor": 2,
 "cells": [
  {
   "cell_type": "code",
   "execution_count": 42,
   "metadata": {},
   "outputs": [],
   "source": [
    "import os\n",
    "import re\n",
    "import sys\n",
    "from time import time\n",
    "import pandas as pd\n",
    "from torch.utils.data import DataLoader\n",
    "from pykospacing import spacing\n",
    "from transformers import BertTokenizer\n",
    "from konlpy.tag import Mecab\n",
    "# from googletrans import LANGUAGES, Translator\n",
    "\n",
    "sys.path.insert(0, '../')\n",
    "from dataset import REDataset, COLUMNS, load_data\n",
    "from tokenization import load_tokenizer\n",
    "from models import load_model\n",
    "from tokenization import SpecialToken as ST\n",
    "from config import PreTrainedType, Config, ModelType, PreProcessType"
   ]
  },
  {
   "cell_type": "code",
   "execution_count": 43,
   "metadata": {},
   "outputs": [
    {
     "output_type": "stream",
     "name": "stdout",
     "text": [
      "Load raw data...\tpreprocessing for 'Base'...\tdone!\n",
      "Load Tokenizer...\tdone!\n",
      "Apply Tokenization...\tdone!\n"
     ]
    }
   ],
   "source": [
    "dataset = REDataset(device='cpu')"
   ]
  },
  {
   "cell_type": "code",
   "execution_count": 14,
   "metadata": {},
   "outputs": [],
   "source": [
    "data = pd.read_csv('../preprocessed/all_csv.tsv', sep='\\t', header=None)\n",
    "data.columns = COLUMNS"
   ]
  },
  {
   "cell_type": "code",
   "execution_count": 30,
   "metadata": {},
   "outputs": [],
   "source": [
    "tokenizer = BertTokenizer.from_pretrained(PreTrainedType.MultiLingual)"
   ]
  },
  {
   "source": [
    "TEMP_E1 = '철수'\n",
    "TEMP_E2 = '영희'\n",
    "SPACE = ' '\n",
    "NOSPACE = ''"
   ],
   "cell_type": "markdown",
   "metadata": {}
  },
  {
   "cell_type": "code",
   "execution_count": 26,
   "metadata": {},
   "outputs": [],
   "source": [
    "data['relation_state'] = data.apply(lambda x: x['relation_state'].replace(x['e1'], TEMP_E1), axis=1)\n",
    "data['relation_state'] = data.apply(lambda x: x['relation_state'].replace(x['e2'], TEMP_E2), axis=1)\n",
    "data['relation_state'] = data['relation_state'].apply(lambda x: x.replace(SPACE, NOSPACE))"
   ]
  },
  {
   "cell_type": "code",
   "execution_count": 28,
   "metadata": {},
   "outputs": [
    {
     "output_type": "stream",
     "name": "stdout",
     "text": [
      "CPU times: user 3h 40min 16s, sys: 11min 20s, total: 3h 51min 37s\nWall time: 2h 52min 57s\n"
     ]
    }
   ],
   "source": [
    "%%time\n",
    "data['relation_state'] = data['relation_state'].apply(lambda x: spacing(x))"
   ]
  },
  {
   "cell_type": "code",
   "execution_count": 35,
   "metadata": {},
   "outputs": [],
   "source": [
    "data['relation_state'] = data.apply(lambda x: x['relation_state'].replace(TEMP_E1, x['e1']), axis=1)\n",
    "data['relation_state'] = data.apply(lambda x: x['relation_state'].replace(TEMP_E2, x['e2']), axis=1)"
   ]
  },
  {
   "cell_type": "code",
   "execution_count": 37,
   "metadata": {},
   "outputs": [],
   "source": [
    "data.to_csv('external_preprocessed_v1.csv')"
   ]
  },
  {
   "cell_type": "code",
   "execution_count": 39,
   "metadata": {},
   "outputs": [],
   "source": [
    "sample = data.iloc[0, :]"
   ]
  },
  {
   "cell_type": "code",
   "execution_count": 41,
   "metadata": {},
   "outputs": [
    {
     "output_type": "execute_result",
     "data": {
      "text/plain": [
       "31"
      ]
     },
     "metadata": {},
     "execution_count": 41
    }
   ],
   "source": [
    "sample['relation_state'].index(sample['e1'])"
   ]
  }
 ]
}