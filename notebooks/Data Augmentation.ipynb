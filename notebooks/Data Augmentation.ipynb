{
 "metadata": {
  "language_info": {
   "codemirror_mode": {
    "name": "ipython",
    "version": 3
   },
   "file_extension": ".py",
   "mimetype": "text/x-python",
   "name": "python",
   "nbconvert_exporter": "python",
   "pygments_lexer": "ipython3",
   "version": "3.7.7-final"
  },
  "orig_nbformat": 2,
  "kernelspec": {
   "name": "python377jvsc74a57bd098b0a9b7b4eaaa670588a142fd0a9b87eaafe866f1db4228be72b4211d12040f",
   "display_name": "Python 3.7.7 64-bit ('base': conda)"
  }
 },
 "nbformat": 4,
 "nbformat_minor": 2,
 "cells": [
  {
   "cell_type": "code",
   "execution_count": 1,
   "metadata": {},
   "outputs": [],
   "source": [
    "import os\n",
    "import re\n",
    "import sys\n",
    "from time import time\n",
    "import pandas as pd\n",
    "from torch.utils.data import DataLoader\n",
    "from pykospacing import spacing\n",
    "from transformers import BertTokenizer\n",
    "from konlpy.tag import Mecab\n",
    "# from googletrans import LANGUAGES, Translator\n",
    "\n",
    "sys.path.insert(0, '../')\n",
    "from dataset import REDataset, COLUMNS, load_data\n",
    "from tokenization import load_tokenizer\n",
    "from models import load_model\n",
    "from tokenization import SpecialToken as ST\n",
    "from config import PreTrainedType, Config, ModelType, PreProcessType"
   ]
  },
  {
   "cell_type": "code",
   "execution_count": 2,
   "metadata": {},
   "outputs": [
    {
     "output_type": "stream",
     "name": "stdout",
     "text": [
      "Load raw data...\tpreprocessing for 'Base'...\tdone!\n",
      "Load Tokenizer...\tdone!\n",
      "Apply Tokenization...\tdone!\n"
     ]
    }
   ],
   "source": [
    "dataset = REDataset(device='cpu')"
   ]
  },
  {
   "cell_type": "code",
   "execution_count": 14,
   "metadata": {},
   "outputs": [],
   "source": [
    "data = pd.read_csv('../preprocessed/all_csv.tsv', sep='\\t', header=None)\n",
    "data.columns = COLUMNS"
   ]
  },
  {
   "cell_type": "code",
   "execution_count": null,
   "metadata": {},
   "outputs": [],
   "source": [
    "tokenizer = BertTokenizer.from_pretrained(PreTrainedType.MultiLingual)"
   ]
  },
  {
   "source": [
    "TEMP_E1 = '철수'\n",
    "TEMP_E2 = '영희'\n",
    "SPACE = ' '\n",
    "NOSPACE = ''"
   ],
   "cell_type": "markdown",
   "metadata": {}
  },
  {
   "cell_type": "code",
   "execution_count": 26,
   "metadata": {},
   "outputs": [],
   "source": [
    "data['relation_state'] = data.apply(lambda x: x['relation_state'].replace(x['e1'], TEMP_E1), axis=1)\n",
    "data['relation_state'] = data.apply(lambda x: x['relation_state'].replace(x['e2'], TEMP_E2), axis=1)\n",
    "data['relation_state'] = data['relation_state'].apply(lambda x: x.replace(SPACE, NOSPACE))"
   ]
  },
  {
   "cell_type": "code",
   "execution_count": 27,
   "metadata": {},
   "outputs": [
    {
     "output_type": "execute_result",
     "data": {
      "text/plain": [
       "                        id                                     relation_state  \\\n",
       "0         from train_csv 5  카터는영희와이스라엘을조정하여,캠프데이비드에서철수대통령과메나헴베긴수상과함께중동평화를위...   \n",
       "1         from train_csv 8  카터는이집트와영희을조정하여,캠프데이비드에서안와르사다트대통령과메나헴베긴수상과함께중동평...   \n",
       "2         from train_csv 9  카터는영희와이스라엘을조정하여,캠프데이비드에서안와르사다트대통령과메나헴베긴수상과함께중동...   \n",
       "3        from train_csv 11  카터는이집트와영희을조정하여,캠프데이비드에서안와르사다트대통령과철수수상과함께중동평화를위...   \n",
       "4        from train_csv 65  선거전까지각축전을벌인유력한후보는15대대통령선거에나와김대중에게패배한제1야당철수의대표'...   \n",
       "...                    ...                                                ...   \n",
       "229606  from dev_csv 99215                           2.\"영희\"(철수작사/계동균작곡)–03:24   \n",
       "229607  from dev_csv 99216                            9.\"영희\"(철수작사/철수작곡)-02:06   \n",
       "229608  from dev_csv 99217  2009년,블런트는장마크발레가감독을맡고철수가각본을쓴《영희》에서빅토리아여왕역으로출연하였다.   \n",
       "229609  from dev_csv 99218  2008년저드애퍼토가제작하고세스로건과철수가각본을맡은코미디영화《영희》와무술영화《겟썸》...   \n",
       "229610  from dev_csv 99219  영화《라이터를켜라》,《영희》의철수,《그해여름》의김은희작가가공동으로집필하고,조현탁PD...   \n",
       "\n",
       "               e1  e1_start  e1_end          e2  e2_start  e2_end       label  \n",
       "0         안와르 사다트        38      44         이집트         5       7  인물:출신성분/국적  \n",
       "1       캠프데이비드 협정        78      86        이스라엘        11      14      단체:구성원  \n",
       "2       캠프데이비드 협정        78      86         이집트         5       7      단체:구성원  \n",
       "3          메나헴 베긴        52      57        이스라엘        11      14  인물:출신성분/국적  \n",
       "4            한나라당        63      66         이회창        75      77      단체:구성원  \n",
       "...           ...       ...     ...         ...       ...     ...         ...  \n",
       "229606        박건호        11      13        사슴여인         4       7       인물:제작  \n",
       "229607         장덕        14      15     안녕히 계세요         4      10       인물:제작  \n",
       "229608    줄리언 펠로스        27      33      영 빅토리아        43      48       인물:제작  \n",
       "229609    에번 골드버그        26      32  파인애플 익스프레스        50      59       인물:제작  \n",
       "229610        장항준        23      25      귀신이 산다        14      19       인물:제작  \n",
       "\n",
       "[229611 rows x 9 columns]"
      ],
      "text/html": "<div>\n<style scoped>\n    .dataframe tbody tr th:only-of-type {\n        vertical-align: middle;\n    }\n\n    .dataframe tbody tr th {\n        vertical-align: top;\n    }\n\n    .dataframe thead th {\n        text-align: right;\n    }\n</style>\n<table border=\"1\" class=\"dataframe\">\n  <thead>\n    <tr style=\"text-align: right;\">\n      <th></th>\n      <th>id</th>\n      <th>relation_state</th>\n      <th>e1</th>\n      <th>e1_start</th>\n      <th>e1_end</th>\n      <th>e2</th>\n      <th>e2_start</th>\n      <th>e2_end</th>\n      <th>label</th>\n    </tr>\n  </thead>\n  <tbody>\n    <tr>\n      <th>0</th>\n      <td>from train_csv 5</td>\n      <td>카터는영희와이스라엘을조정하여,캠프데이비드에서철수대통령과메나헴베긴수상과함께중동평화를위...</td>\n      <td>안와르 사다트</td>\n      <td>38</td>\n      <td>44</td>\n      <td>이집트</td>\n      <td>5</td>\n      <td>7</td>\n      <td>인물:출신성분/국적</td>\n    </tr>\n    <tr>\n      <th>1</th>\n      <td>from train_csv 8</td>\n      <td>카터는이집트와영희을조정하여,캠프데이비드에서안와르사다트대통령과메나헴베긴수상과함께중동평...</td>\n      <td>캠프데이비드 협정</td>\n      <td>78</td>\n      <td>86</td>\n      <td>이스라엘</td>\n      <td>11</td>\n      <td>14</td>\n      <td>단체:구성원</td>\n    </tr>\n    <tr>\n      <th>2</th>\n      <td>from train_csv 9</td>\n      <td>카터는영희와이스라엘을조정하여,캠프데이비드에서안와르사다트대통령과메나헴베긴수상과함께중동...</td>\n      <td>캠프데이비드 협정</td>\n      <td>78</td>\n      <td>86</td>\n      <td>이집트</td>\n      <td>5</td>\n      <td>7</td>\n      <td>단체:구성원</td>\n    </tr>\n    <tr>\n      <th>3</th>\n      <td>from train_csv 11</td>\n      <td>카터는이집트와영희을조정하여,캠프데이비드에서안와르사다트대통령과철수수상과함께중동평화를위...</td>\n      <td>메나헴 베긴</td>\n      <td>52</td>\n      <td>57</td>\n      <td>이스라엘</td>\n      <td>11</td>\n      <td>14</td>\n      <td>인물:출신성분/국적</td>\n    </tr>\n    <tr>\n      <th>4</th>\n      <td>from train_csv 65</td>\n      <td>선거전까지각축전을벌인유력한후보는15대대통령선거에나와김대중에게패배한제1야당철수의대표'...</td>\n      <td>한나라당</td>\n      <td>63</td>\n      <td>66</td>\n      <td>이회창</td>\n      <td>75</td>\n      <td>77</td>\n      <td>단체:구성원</td>\n    </tr>\n    <tr>\n      <th>...</th>\n      <td>...</td>\n      <td>...</td>\n      <td>...</td>\n      <td>...</td>\n      <td>...</td>\n      <td>...</td>\n      <td>...</td>\n      <td>...</td>\n      <td>...</td>\n    </tr>\n    <tr>\n      <th>229606</th>\n      <td>from dev_csv 99215</td>\n      <td>2.\"영희\"(철수작사/계동균작곡)–03:24</td>\n      <td>박건호</td>\n      <td>11</td>\n      <td>13</td>\n      <td>사슴여인</td>\n      <td>4</td>\n      <td>7</td>\n      <td>인물:제작</td>\n    </tr>\n    <tr>\n      <th>229607</th>\n      <td>from dev_csv 99216</td>\n      <td>9.\"영희\"(철수작사/철수작곡)-02:06</td>\n      <td>장덕</td>\n      <td>14</td>\n      <td>15</td>\n      <td>안녕히 계세요</td>\n      <td>4</td>\n      <td>10</td>\n      <td>인물:제작</td>\n    </tr>\n    <tr>\n      <th>229608</th>\n      <td>from dev_csv 99217</td>\n      <td>2009년,블런트는장마크발레가감독을맡고철수가각본을쓴《영희》에서빅토리아여왕역으로출연하였다.</td>\n      <td>줄리언 펠로스</td>\n      <td>27</td>\n      <td>33</td>\n      <td>영 빅토리아</td>\n      <td>43</td>\n      <td>48</td>\n      <td>인물:제작</td>\n    </tr>\n    <tr>\n      <th>229609</th>\n      <td>from dev_csv 99218</td>\n      <td>2008년저드애퍼토가제작하고세스로건과철수가각본을맡은코미디영화《영희》와무술영화《겟썸》...</td>\n      <td>에번 골드버그</td>\n      <td>26</td>\n      <td>32</td>\n      <td>파인애플 익스프레스</td>\n      <td>50</td>\n      <td>59</td>\n      <td>인물:제작</td>\n    </tr>\n    <tr>\n      <th>229610</th>\n      <td>from dev_csv 99219</td>\n      <td>영화《라이터를켜라》,《영희》의철수,《그해여름》의김은희작가가공동으로집필하고,조현탁PD...</td>\n      <td>장항준</td>\n      <td>23</td>\n      <td>25</td>\n      <td>귀신이 산다</td>\n      <td>14</td>\n      <td>19</td>\n      <td>인물:제작</td>\n    </tr>\n  </tbody>\n</table>\n<p>229611 rows × 9 columns</p>\n</div>"
     },
     "metadata": {},
     "execution_count": 27
    }
   ],
   "source": [
    "%%time\n",
    "data['relation_state'] = data['relation_state'].apply(lambda x: spacing(x))"
   ]
  }
 ]
}