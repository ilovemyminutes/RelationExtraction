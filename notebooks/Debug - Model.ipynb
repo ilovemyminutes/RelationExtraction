{
 "metadata": {
  "language_info": {
   "codemirror_mode": {
    "name": "ipython",
    "version": 3
   },
   "file_extension": ".py",
   "mimetype": "text/x-python",
   "name": "python",
   "nbconvert_exporter": "python",
   "pygments_lexer": "ipython3",
   "version": "3.7.7-final"
  },
  "orig_nbformat": 2,
  "kernelspec": {
   "name": "python377jvsc74a57bd098b0a9b7b4eaaa670588a142fd0a9b87eaafe866f1db4228be72b4211d12040f",
   "display_name": "Python 3.7.7 64-bit ('base': conda)"
  }
 },
 "nbformat": 4,
 "nbformat_minor": 2,
 "cells": [
  {
   "cell_type": "code",
   "execution_count": 113,
   "metadata": {},
   "outputs": [],
   "source": [
    "from typing import Tuple, Dict\n",
    "import pandas as pd\n",
    "import torch\n",
    "from torch.nn import functional as F\n",
    "from torch import optim\n",
    "from torch import nn\n",
    "from torch.utils.data import DataLoader, Dataset\n",
    "import sys\n",
    "sys.path.insert(0, '../')\n",
    "\n",
    "from config import *\n",
    "from transformers import BertModel, BertConfig, BertForSequenceClassification\n",
    "from models import load_model\n",
    "from dataset import REDataset, load_data, LabelEncoder, COLUMNS\n",
    "from preprocessing import preprocess_text\n",
    "from utils import set_seed\n",
    "from tokenization import load_tokenizer, tokenize, SpecialToken\n",
    "from criterions import *\n",
    "from optimizers import *"
   ]
  },
  {
   "cell_type": "code",
   "execution_count": 114,
   "metadata": {},
   "outputs": [
    {
     "output_type": "stream",
     "name": "stdout",
     "text": [
      "Load Model...\tSome weights of the model checkpoint at bert-base-multilingual-cased were not used when initializing BertForSequenceClassification: ['cls.predictions.bias', 'cls.predictions.transform.dense.weight', 'cls.predictions.transform.dense.bias', 'cls.predictions.decoder.weight', 'cls.seq_relationship.weight', 'cls.seq_relationship.bias', 'cls.predictions.transform.LayerNorm.weight', 'cls.predictions.transform.LayerNorm.bias']\n",
      "- This IS expected if you are initializing BertForSequenceClassification from the checkpoint of a model trained on another task or with another architecture (e.g. initializing a BertForSequenceClassification model from a BertForPreTraining model).\n",
      "- This IS NOT expected if you are initializing BertForSequenceClassification from the checkpoint of a model that you expect to be exactly identical (initializing a BertForSequenceClassification model from a BertForSequenceClassification model).\n",
      "Some weights of BertForSequenceClassification were not initialized from the model checkpoint at bert-base-multilingual-cased and are newly initialized: ['classifier.weight', 'classifier.bias']\n",
      "You should probably TRAIN this model on a down-stream task to be able to use it for predictions and inference.\n",
      "done!\n",
      "MODEL\n"
     ]
    }
   ],
   "source": [
    "model = load_model(\n",
    "        ModelType.SequenceClf, PreTrainedType.MultiLingual, 42, None, 0, dropout=None\n",
    "    )\n",
    "model.cpu()\n",
    "print('MODEL')"
   ]
  },
  {
   "cell_type": "code",
   "execution_count": 115,
   "metadata": {},
   "outputs": [
    {
     "output_type": "stream",
     "name": "stdout",
     "text": [
      "Load raw data...\tapply preprocess 'EntityMarker'...\tdone!\n",
      "Load Tokenizer for EntityMarker...\tdone!\n"
     ]
    }
   ],
   "source": [
    "dataset = REDataset()"
   ]
  },
  {
   "cell_type": "code",
   "execution_count": 117,
   "metadata": {},
   "outputs": [
    {
     "output_type": "execute_result",
     "data": {
      "text/plain": [
       "Embedding(119551, 768)"
      ]
     },
     "metadata": {},
     "execution_count": 117
    }
   ],
   "source": [
    "model.resize_token_embeddings(len(dataset.tokenizer))"
   ]
  },
  {
   "cell_type": "code",
   "execution_count": 118,
   "metadata": {},
   "outputs": [],
   "source": [
    "loader = DataLoader(dataset, batch_size=4)"
   ]
  },
  {
   "cell_type": "code",
   "execution_count": 119,
   "metadata": {},
   "outputs": [],
   "source": [
    "for sents, labels in loader:\n",
    "    break"
   ]
  },
  {
   "cell_type": "code",
   "execution_count": 2,
   "metadata": {},
   "outputs": [],
   "source": [
    "def tokenize(sentence, tokenizer, type: str=PreProcessType.Base) -> dict:\n",
    "    outputs = tokenizer(\n",
    "        sentence,\n",
    "        return_tensors=\"pt\",\n",
    "        padding=\"max_length\",\n",
    "        truncation=True,\n",
    "        max_length=128,\n",
    "        add_special_tokens=True,\n",
    "    )\n",
    "    for key in outputs.keys():\n",
    "        outputs[key] = outputs[key].squeeze()\n",
    "\n",
    "    if type != PreProcessType.Base:\n",
    "        tokenized = tokenizer.tokenize(sentence)\n",
    "\n",
    "        if type == PreProcessType.EM:\n",
    "            # Add embedding value for entity marker tokens([E1], [/E1], [E2], [/E2])\n",
    "            entity_indices = find_entity_indices(tokenized)\n",
    "            for open, close in entity_indices.values():\n",
    "                outputs.token_type_ids[\n",
    "                    OFFSET + open : OFFSET + close + 1\n",
    "                ] += ENTITY_SCORE\n",
    "\n",
    "        elif type == PreProcessType.ESP:\n",
    "            # Add embedding value for separation token([SEP])\n",
    "            last_sep_idx = fine_sep_indices(tokenized).pop()\n",
    "            outputs.token_type_ids[OFFSET : last_sep_idx + 1] += SEP_SCORE\n",
    "            return outputs\n",
    "\n",
    "        elif type == PreProcessType.EMSP:\n",
    "            entity_indices = find_entity_indices(tokenized)\n",
    "            for (open, close) in entity_indices.values():\n",
    "                outputs.token_type_ids[\n",
    "                    OFFSET + open : OFFSET + close + 1\n",
    "                ] += ENTITY_SCORE\n",
    "\n",
    "            last_sep_idx = fine_sep_indices(tokenized).pop()\n",
    "            outputs.token_type_ids[OFFSET : last_sep_idx + 1] += SEP_SCORE\n",
    "\n",
    "    return outputs"
   ]
  },
  {
   "cell_type": "code",
   "execution_count": 124,
   "metadata": {},
   "outputs": [],
   "source": [
    "from tqdm import tqdm\n",
    "\n",
    "MAX_LENGTH = 128\n",
    "OFFSET = 1\n",
    "ENTITY_SCORE = 1\n",
    "\n",
    "class REDataset_v0(Dataset):\n",
    "    def __init__(\n",
    "        self,\n",
    "        root: str = Config.Train,\n",
    "        preprocess_type: str = PreProcessType.EM,\n",
    "        device: str = Config.Device,\n",
    "    ):\n",
    "        self.data = self._load_data(root, preprocess_type=preprocess_type)\n",
    "        self.labels = self.data[\"label\"].tolist()\n",
    "        self.tokenizer = load_tokenizer(type=preprocess_type)\n",
    "        self.inputs = self._tokenize(self.data)\n",
    "        self.device = device\n",
    "\n",
    "    def __getitem__(self, idx) -> Tuple[Dict[str, torch.Tensor], torch.Tensor]:\n",
    "        \"\"\"모델에 입력할 데이터 생성시, device 상황에 따라 CPU 또는 GPU에 할당한 채로 return\"\"\"        \n",
    "        sentence = {\n",
    "            key: torch.as_tensor(val[idx]).to(self.device) # device 할당\n",
    "            for key, val in self.inputs.items()\n",
    "        }\n",
    "        label = torch.as_tensor(self.labels[idx]).to(self.device) # device 할당\n",
    "        return sentence, label\n",
    "\n",
    "    def __len__(self):\n",
    "        return len(self.labels)\n",
    "\n",
    "    def _tokenize(self, data):\n",
    "        print(\"Apply Tokenization...\", end=\"\\t\")\n",
    "        tokenized_decoded = self.data['input'].apply(lambda x: self.tokenizer.tokenize(x))\n",
    "        entity_intervals = tokenized_decoded.apply(lambda x: find_entity_intervals(x))\n",
    "        entity_interval_tensor = self.make_entity_interval_tensor(entity_intervals, max_length=MAX_LENGTH)\n",
    "\n",
    "        data_tokenized = self.tokenizer(\n",
    "            data[\"input\"].tolist(),\n",
    "            return_tensors=\"pt\",\n",
    "            padding=True,\n",
    "            truncation=True,\n",
    "            max_length=MAX_LENGTH,\n",
    "            add_special_tokens=True,\n",
    "        )\n",
    "        data_tokenized['token_type_ids'] += entity_interval_tensor.long()\n",
    "\n",
    "        print(\"done!\")\n",
    "        return data_tokenized\n",
    "\n",
    "    def _load_data(self, root: str, preprocess_type: str) -> pd.DataFrame:\n",
    "        enc = LabelEncoder()\n",
    "        print(\"Load raw data...\", end=\"\\t\")\n",
    "        raw = pd.read_csv(root, sep=\"\\t\", header=None)\n",
    "        raw.columns = COLUMNS\n",
    "        raw = raw.drop(\"id\", axis=1)\n",
    "        raw[\"label\"] = raw[\"label\"].apply(lambda x: enc.transform(x))\n",
    "        print(f\"preprocessing for '{preprocess_type}'...\", end=\"\\t\")\n",
    "        data = preprocess_text(raw, method=preprocess_type)\n",
    "        print(\"done!\")\n",
    "        return data\n",
    "    \n",
    "    def make_entity_interval_tensor(self, entity_intervals: list, max_length: int=128):\n",
    "        n_rows = self.__len__()\n",
    "        n_cols = max_length\n",
    "        entity_interval_tensor = torch.zeros(n_rows, n_cols)\n",
    "\n",
    "        for idx, (e1, e2) in tqdm(enumerate(entity_intervals), desc=\"Update token_type_ids\"):\n",
    "            entity_interval_tensor[idx][OFFSET+e1[0]: OFFSET+e1[1]+1] += ENTITY_SCORE\n",
    "            entity_interval_tensor[idx][OFFSET+e2[0]: OFFSET+e2[1]+1] += ENTITY_SCORE\n",
    "\n",
    "        return entity_interval_tensor\n",
    "    \n",
    "    @staticmethod\n",
    "    def _find_entity_intervals(tokenized: list) -> dict:\n",
    "        entity_intervals = [\n",
    "            (tokenized.index(SpecialToken.E1Open), tokenized.index(SpecialToken.E1Close)),\n",
    "            (tokenized.index(SpecialToken.E2Open), tokenized.index(SpecialToken.E2Close))\n",
    "        ]\n",
    "        return entity_intervals\n",
    "    \n",
    "    "
   ]
  },
  {
   "cell_type": "code",
   "execution_count": 125,
   "metadata": {},
   "outputs": [
    {
     "output_type": "stream",
     "name": "stdout",
     "text": [
      "Load raw data...\tpreprocessing for 'EntityMarker'...\tdone!\n",
      "Load Tokenizer for EntityMarker...\tdone!\n",
      "Update token_type_ids: 9000it [00:00, 31860.58it/s]\n",
      "done!\n"
     ]
    }
   ],
   "source": [
    "# dataset = REDataset(device='cpu')\n",
    "dataset_stable = REDataset_v0(device='cpu')"
   ]
  },
  {
   "cell_type": "code",
   "execution_count": 126,
   "metadata": {},
   "outputs": [
    {
     "output_type": "execute_result",
     "data": {
      "text/plain": [
       "PreTrainedTokenizer(name_or_path='bert-base-multilingual-cased', vocab_size=119547, model_max_len=512, is_fast=False, padding_side='right', special_tokens={'unk_token': '[UNK]', 'sep_token': '[SEP]', 'pad_token': '[PAD]', 'cls_token': '[CLS]', 'mask_token': '[MASK]', 'additional_special_tokens': ['[E1]', '[/E1]', '[E2]', '[/E2]']})"
      ]
     },
     "metadata": {},
     "execution_count": 126
    }
   ],
   "source": [
    "dataset_stable.tokenizer"
   ]
  },
  {
   "cell_type": "code",
   "execution_count": 128,
   "metadata": {},
   "outputs": [],
   "source": [
    "loader = DataLoader(dataset_stable, batch_size=4)"
   ]
  },
  {
   "cell_type": "code",
   "execution_count": 129,
   "metadata": {},
   "outputs": [],
   "source": [
    "for sents, labels in loader:\n",
    "    break"
   ]
  },
  {
   "cell_type": "code",
   "execution_count": 127,
   "metadata": {},
   "outputs": [
    {
     "output_type": "execute_result",
     "data": {
      "text/plain": [
       "Embedding(119551, 768)"
      ]
     },
     "metadata": {},
     "execution_count": 127
    }
   ],
   "source": [
    "model.resize_token_embeddings(len(dataset.tokenizer))"
   ]
  },
  {
   "cell_type": "code",
   "execution_count": 130,
   "metadata": {},
   "outputs": [
    {
     "output_type": "execute_result",
     "data": {
      "text/plain": [
       "SequenceClassifierOutput(loss=None, logits=tensor([[ 0.1994, -0.0248, -0.0062, -0.0171, -0.0209, -0.1810, -0.0397,  0.2497,\n",
       "         -0.0708,  0.0445,  0.1316, -0.0034, -0.0707, -0.0775, -0.0678, -0.0381,\n",
       "          0.0455,  0.0807,  0.0078, -0.0194, -0.0158,  0.0933, -0.1661, -0.1252,\n",
       "          0.0518,  0.1195, -0.0281,  0.0389, -0.0122,  0.1866, -0.0236,  0.0199,\n",
       "         -0.0128, -0.1093,  0.0093, -0.1239, -0.0390, -0.2052, -0.0179, -0.0561,\n",
       "         -0.0232,  0.1765],\n",
       "        [ 0.2068, -0.0411,  0.0759,  0.0373, -0.0166, -0.0974, -0.0823,  0.1185,\n",
       "         -0.0871, -0.0335,  0.1325, -0.0942, -0.0721, -0.0381, -0.0757,  0.0282,\n",
       "         -0.0473,  0.1172,  0.0055, -0.0144, -0.0729,  0.1922, -0.0428, -0.1354,\n",
       "          0.0109,  0.0942,  0.0104,  0.0799,  0.0140,  0.1804, -0.0604,  0.1042,\n",
       "         -0.0479, -0.1226, -0.0580, -0.1510, -0.0386, -0.2189, -0.0229, -0.0726,\n",
       "          0.0257,  0.1316],\n",
       "        [ 0.1037, -0.1658,  0.2718,  0.0931, -0.1524, -0.0138, -0.0878,  0.0802,\n",
       "         -0.0544, -0.1733,  0.0666, -0.1553, -0.0115,  0.2490, -0.0733,  0.0294,\n",
       "         -0.1729,  0.0549,  0.0787,  0.1004, -0.0920,  0.1619,  0.2794, -0.0283,\n",
       "         -0.1460,  0.1299,  0.3996,  0.0993,  0.0258,  0.0039, -0.1368,  0.2858,\n",
       "         -0.0178, -0.0476, -0.2534, -0.0689, -0.1155, -0.2671,  0.0473,  0.0375,\n",
       "          0.0751, -0.0848],\n",
       "        [ 0.0480, -0.3611,  0.4076,  0.2888, -0.4502,  0.1743, -0.0660, -0.0219,\n",
       "         -0.0805, -0.3127, -0.0782, -0.3119,  0.1729,  0.4992,  0.0758,  0.1810,\n",
       "         -0.3977,  0.0217,  0.2743,  0.1484, -0.1454,  0.0267,  0.6502,  0.1214,\n",
       "         -0.3184,  0.1640,  0.7661,  0.0299, -0.1537, -0.2681, -0.1311,  0.3027,\n",
       "          0.0532, -0.0596, -0.5168, -0.0106,  0.1017, -0.4040,  0.1683,  0.1191,\n",
       "          0.1170, -0.3212]], grad_fn=<AddmmBackward>), hidden_states=None, attentions=None)"
      ]
     },
     "metadata": {},
     "execution_count": 130
    }
   ],
   "source": [
    "model(**sents)"
   ]
  }
 ]
}