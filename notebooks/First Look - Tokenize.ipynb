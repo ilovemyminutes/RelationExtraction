{
 "metadata": {
  "language_info": {
   "codemirror_mode": {
    "name": "ipython",
    "version": 3
   },
   "file_extension": ".py",
   "mimetype": "text/x-python",
   "name": "python",
   "nbconvert_exporter": "python",
   "pygments_lexer": "ipython3",
   "version": "3.7.7-final"
  },
  "orig_nbformat": 2,
  "kernelspec": {
   "name": "python377jvsc74a57bd098b0a9b7b4eaaa670588a142fd0a9b87eaafe866f1db4228be72b4211d12040f",
   "display_name": "Python 3.7.7 64-bit ('base': conda)"
  }
 },
 "nbformat": 4,
 "nbformat_minor": 2,
 "cells": [
  {
   "cell_type": "code",
   "execution_count": 34,
   "metadata": {},
   "outputs": [],
   "source": [
    "import os\n",
    "import sys\n",
    "from glob import glob\n",
    "from collections import Counter\n",
    "from konlpy.tag import Mecab\n",
    "import pandas as pd \n",
    "import numpy as np\n",
    "pd.set_option('display.max_rows', 100)\n",
    "\n",
    "import matplotlib.pyplot as plt\n",
    "import seaborn as sns\n",
    "import matplotlib as mpl\n",
    "import matplotlib.font_manager as fm\n",
    "plt.style.use('ggplot')\n",
    "plt.rc('font', family='Malgun Gothic')\n",
    "mpl.rcParams['axes.unicode_minus'] = False\n",
    "\n",
    "\n",
    "sys.path.insert(0, '../')\n",
    "from utils import load_pickle\n",
    "from load_data import load_data\n",
    "from config import Config"
   ]
  },
  {
   "cell_type": "code",
   "execution_count": 8,
   "metadata": {},
   "outputs": [],
   "source": [
    "relations = load_pickle('../input/data/label_type.pkl')\n",
    "inverse_relations = {i:j for j, i in relations.items()}\n",
    "tagger = Mecab()"
   ]
  },
  {
   "cell_type": "code",
   "execution_count": 3,
   "metadata": {},
   "outputs": [
    {
     "output_type": "stream",
     "name": "stdout",
     "text": [
      "(9000, 4)\n"
     ]
    }
   ],
   "source": [
    "train_raw = load_data(Config.Train)\n",
    "train_raw.head()\n",
    "\n",
    "TRAIN_SIZE = train_raw.shape[0]\n",
    "print(train_raw.shape)"
   ]
  },
  {
   "cell_type": "code",
   "execution_count": 4,
   "metadata": {},
   "outputs": [
    {
     "output_type": "stream",
     "name": "stdout",
     "text": [
      "Uniqueness for Entity 1: 5089\nUniqueness for Entity 2: 4474\nIntersection between Entities: 694\nIntersection Rate:  0.0771\n"
     ]
    }
   ],
   "source": [
    "print(f\"Uniqueness for Entity 1: {train_raw['entity_01'].nunique()}\")\n",
    "print(f\"Uniqueness for Entity 2: {train_raw['entity_02'].nunique()}\")\n",
    "print(f\"Intersection between Entities: {len(set(train_raw['entity_01']).intersection(set(train_raw['entity_02'])))}\")\n",
    "print(f\"Intersection Rate: {len(set(train_raw['entity_01']).intersection(set(train_raw['entity_02']))) / TRAIN_SIZE: .4f}\")"
   ]
  },
  {
   "cell_type": "code",
   "execution_count": 25,
   "metadata": {},
   "outputs": [],
   "source": [
    "ENTITY1 = '더불어민주당'\n",
    "ENTITY2 = '문재인'\n",
    "\n",
    "# 더불어민주당 -> 문재인\n",
    "condition = (train_raw['entity_01'] == ENTITY1) & (train_raw['entity_02'] == ENTITY2)\n",
    "entity_left = train_raw[condition].reset_index(drop=True)\n",
    "entity_left.loc[:, 'label'] = entity_left.loc[:, 'label'].apply(lambda x: inverse_relations[x])\n",
    "\n",
    "# 문재인 -> 더불어민주당\n",
    "condition = (train_raw['entity_02'] == ENTITY1) & (train_raw['entity_01'] == ENTITY2)\n",
    "entity_right = train_raw[condition].reset_index(drop=True)\n",
    "entity_right.loc[:, 'label'] = entity_right.loc[:, 'label'].apply(lambda x: inverse_relations[x])"
   ]
  },
  {
   "cell_type": "code",
   "execution_count": 28,
   "metadata": {},
   "outputs": [],
   "source": [
    "nouns = ['NNG', 'NNP', 'NNB', 'NNBC', 'NR', 'NP']\n",
    "verb = ['VV']\n",
    "adjective = ['VA']\n",
    "\n",
    "FILTER = nouns + verb + adjective\n"
   ]
  },
  {
   "cell_type": "code",
   "execution_count": 29,
   "metadata": {},
   "outputs": [],
   "source": [
    "def filter_tags(pos: list):\n",
    "    output = list(filter(lambda x: x[-1] in FILTER, pos))\n",
    "    output = list(map(lambda x: x[0], output))\n",
    "    return output\n",
    "\n",
    "\n",
    "entity_left['tagged'] = entity_left['sentence'].apply(lambda x: filter_tags(tagger.pos(x)))\n",
    "entity_right['tagged'] = entity_right['sentence'].apply(lambda x: filter_tags(tagger.pos(x)))"
   ]
  },
  {
   "cell_type": "code",
   "execution_count": 31,
   "metadata": {},
   "outputs": [],
   "source": [
    "def flatten(l: list):\n",
    "    output = []\n",
    "    for element in l:\n",
    "        if isinstance(element, list):\n",
    "            output.extend(element)\n",
    "        else:\n",
    "            output.append(element)\n",
    "    return output"
   ]
  },
  {
   "cell_type": "code",
   "execution_count": 51,
   "metadata": {},
   "outputs": [
    {
     "output_type": "stream",
     "name": "stdout",
     "text": [
      "416 318\n"
     ]
    }
   ],
   "source": [
    "# '문재인 -> 더불어민주당' 관계에서의 주요 소잿거리\n",
    "keywords_right = pd.Series(flatten(entity_right['tagged'].tolist())).unique().tolist()\n",
    "\n",
    "# '더불어민주당 -> 문재인' 관계에서의 주요 소잿거리\n",
    "keywords_left = pd.Series(flatten(entity_left['tagged'].tolist())).unique().tolist()\n",
    "\n",
    "print(len(keywords_right), len(keywords_left))"
   ]
  },
  {
   "cell_type": "code",
   "execution_count": 50,
   "metadata": {},
   "outputs": [
    {
     "output_type": "execute_result",
     "data": {
      "text/plain": [
       "187"
      ]
     },
     "metadata": {},
     "execution_count": 50
    }
   ],
   "source": [
    "len(set(keywords_right).intersection(set(keywords_left)))"
   ]
  },
  {
   "cell_type": "code",
   "execution_count": 78,
   "metadata": {},
   "outputs": [
    {
     "output_type": "stream",
     "name": "stdout",
     "text": [
      "Top 10 중복도 0.8\nRight Rate: 0.2557213930348259\nLeft Rate: 0.2888198757763975\nTop 20 중복도 0.8\nRight Rate: 0.34626865671641793\nLeft Rate: 0.386128364389234\nTop 30 중복도 0.7\nRight Rate: 0.4079601990049751\nLeft Rate: 0.45445134575569357\nTop 40 중복도 0.7\nRight Rate: 0.454726368159204\nLeft Rate: 0.5093167701863354\nTop 50 중복도 0.66\nRight Rate: 0.49154228855721394\nLeft Rate: 0.5559006211180124\nTop 100 중복도 0.55\nRight Rate: 0.6268656716417911\nLeft Rate: 0.7287784679089027\nTop 200 중복도 0.525\nRight Rate: 0.7850746268656716\nLeft Rate: 0.8778467908902692\nTop 300 중복도 0.49333333333333335\nRight Rate: 0.8845771144278607\nLeft Rate: 0.9813664596273292\n"
     ]
    }
   ],
   "source": [
    "for top_k in [10, 20, 30, 40, 50, 100, 200, 300]:\n",
    "    # '문재인 -> 더불어민주당' 관계에서의 주요 소잿거리\n",
    "    keywords_right_cnt = pd.Series(flatten(entity_right['tagged'].tolist())).value_counts()\n",
    "    keywords_right = keywords_right_cnt.index[:top_k].tolist()\n",
    "\n",
    "    # '더불어민주당 -> 문재인' 관계에서의 주요 소잿거리\n",
    "    keywords_left_cnt = pd.Series(flatten(entity_left['tagged'].tolist())).value_counts()\n",
    "    keywords_left = keywords_left_cnt.index[:top_k].tolist()\n",
    "\n",
    "    print(f'Top {top_k} 중복도', len(set(keywords_right).intersection(set(keywords_left))) / top_k)\n",
    "    print(f'Right Rate: {keywords_right_cnt.iloc[:top_k].sum() / keywords_right_cnt.sum()}')\n",
    "    print(f'Left Rate: {keywords_left_cnt.iloc[:top_k].sum() / keywords_left_cnt.sum()}')"
   ]
  }
 ]
}