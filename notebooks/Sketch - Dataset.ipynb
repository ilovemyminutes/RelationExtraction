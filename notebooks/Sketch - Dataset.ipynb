{
 "metadata": {
  "language_info": {
   "codemirror_mode": {
    "name": "ipython",
    "version": 3
   },
   "file_extension": ".py",
   "mimetype": "text/x-python",
   "name": "python",
   "nbconvert_exporter": "python",
   "pygments_lexer": "ipython3",
   "version": "3.7.7-final"
  },
  "orig_nbformat": 2,
  "kernelspec": {
   "name": "python377jvsc74a57bd098b0a9b7b4eaaa670588a142fd0a9b87eaafe866f1db4228be72b4211d12040f",
   "display_name": "Python 3.7.7 64-bit ('base': conda)"
  }
 },
 "nbformat": 4,
 "nbformat_minor": 2,
 "cells": [
  {
   "cell_type": "code",
   "execution_count": 1,
   "metadata": {},
   "outputs": [],
   "source": [
    "import sys\n",
    "import pandas as pd\n",
    "import numpy as np\n",
    "sys.path.insert(0, '../')\n",
    "from dataset import REDataset, load_data, load_test_dataset\n",
    "from config import Config\n",
    "from utils import load_pickle\n",
    "\n",
    "from transformers import AutoTokenizer"
   ]
  },
  {
   "cell_type": "code",
   "execution_count": 5,
   "metadata": {},
   "outputs": [
    {
     "output_type": "execute_result",
     "data": {
      "text/plain": [
       "                                            sentence entity_01  entity_02  \\\n",
       "0  영국에서 사용되는 스포츠 유틸리티 자동차의 브랜드로는 랜드로버(Land Rover)...      랜드로버        자동차   \n",
       "1  선거에서 민주당은 해산 전 의석인 230석에 한참 못 미치는 57석(지역구 27석,...       민주당        27석   \n",
       "2  유럽 축구 연맹(UEFA) 집행위원회는 2014년 1월 24일에 열린 회의를 통해 ...  유럽 축구 연맹       UEFA   \n",
       "3  용병 공격수 챠디의 부진과 시즌 초 활약한 강수일의 침체, 시즌 중반에 영입한 세르...       강수일        공격수   \n",
       "4  람캄행 왕은 1237년에서 1247년 사이 수코타이의 왕 퍼쿤 씨 인트라팃과 쓰엉 ...       람캄행  퍼쿤 씨 인트라팃   \n",
       "\n",
       "   label  \n",
       "0     17  \n",
       "1      0  \n",
       "2      6  \n",
       "3      2  \n",
       "4      8  "
      ],
      "text/html": "<div>\n<style scoped>\n    .dataframe tbody tr th:only-of-type {\n        vertical-align: middle;\n    }\n\n    .dataframe tbody tr th {\n        vertical-align: top;\n    }\n\n    .dataframe thead th {\n        text-align: right;\n    }\n</style>\n<table border=\"1\" class=\"dataframe\">\n  <thead>\n    <tr style=\"text-align: right;\">\n      <th></th>\n      <th>sentence</th>\n      <th>entity_01</th>\n      <th>entity_02</th>\n      <th>label</th>\n    </tr>\n  </thead>\n  <tbody>\n    <tr>\n      <th>0</th>\n      <td>영국에서 사용되는 스포츠 유틸리티 자동차의 브랜드로는 랜드로버(Land Rover)...</td>\n      <td>랜드로버</td>\n      <td>자동차</td>\n      <td>17</td>\n    </tr>\n    <tr>\n      <th>1</th>\n      <td>선거에서 민주당은 해산 전 의석인 230석에 한참 못 미치는 57석(지역구 27석,...</td>\n      <td>민주당</td>\n      <td>27석</td>\n      <td>0</td>\n    </tr>\n    <tr>\n      <th>2</th>\n      <td>유럽 축구 연맹(UEFA) 집행위원회는 2014년 1월 24일에 열린 회의를 통해 ...</td>\n      <td>유럽 축구 연맹</td>\n      <td>UEFA</td>\n      <td>6</td>\n    </tr>\n    <tr>\n      <th>3</th>\n      <td>용병 공격수 챠디의 부진과 시즌 초 활약한 강수일의 침체, 시즌 중반에 영입한 세르...</td>\n      <td>강수일</td>\n      <td>공격수</td>\n      <td>2</td>\n    </tr>\n    <tr>\n      <th>4</th>\n      <td>람캄행 왕은 1237년에서 1247년 사이 수코타이의 왕 퍼쿤 씨 인트라팃과 쓰엉 ...</td>\n      <td>람캄행</td>\n      <td>퍼쿤 씨 인트라팃</td>\n      <td>8</td>\n    </tr>\n  </tbody>\n</table>\n</div>"
     },
     "metadata": {},
     "execution_count": 5
    }
   ],
   "source": [
    "train = load_data(Config.Train)\n",
    "train.head()"
   ]
  },
  {
   "cell_type": "code",
   "execution_count": 2,
   "metadata": {},
   "outputs": [],
   "source": [
    "label = load_pickle(Config.Label)"
   ]
  },
  {
   "cell_type": "code",
   "execution_count": 4,
   "metadata": {},
   "outputs": [
    {
     "output_type": "error",
     "ename": "SyntaxError",
     "evalue": "invalid syntax (<ipython-input-4-0d375db31127>, line 6)",
     "traceback": [
      "\u001b[0;36m  File \u001b[0;32m\"<ipython-input-4-0d375db31127>\"\u001b[0;36m, line \u001b[0;32m6\u001b[0m\n\u001b[0;31m    def transform(self, x)\u001b[0m\n\u001b[0m                          ^\u001b[0m\n\u001b[0;31mSyntaxError\u001b[0m\u001b[0;31m:\u001b[0m invalid syntax\n"
     ]
    }
   ],
   "source": [
    "class LabelEncoder:\n",
    "    def __init__(self, meta_root: str=Config.Label):\n",
    "        self.encoder = load_pickle(Config.Label)\n",
    "        self.decoder = {j:i for j, i in self.encoder.items()}\n",
    "\n",
    "    def transform(self, x):\n",
    "        return self.encoder[x]\n",
    "        \n",
    "    def inverse_transform(self, x):\n",
    "        return self.decoder[x]"
   ]
  },
  {
   "cell_type": "code",
   "execution_count": 33,
   "metadata": {},
   "outputs": [
    {
     "output_type": "execute_result",
     "data": {
      "text/plain": [
       "                               id  \\\n",
       "0  wikipedia-24896-25-30-33-19-21   \n",
       "1   wikipedia-12728-224-5-7-42-44   \n",
       "2      wikipedia-28460-3-0-7-9-12   \n",
       "3    wikipedia-11479-37-24-26-3-5   \n",
       "4     wikipedia-15581-6-0-2-32-40   \n",
       "\n",
       "                                      relation_state        e1  e1_start  \\\n",
       "0  영국에서 사용되는 스포츠 유틸리티 자동차의 브랜드로는 랜드로버(Land Rover)...      랜드로버        30   \n",
       "1  선거에서 민주당은 해산 전 의석인 230석에 한참 못 미치는 57석(지역구 27석,...       민주당         5   \n",
       "2  유럽 축구 연맹(UEFA) 집행위원회는 2014년 1월 24일에 열린 회의를 통해 ...  유럽 축구 연맹         0   \n",
       "3  용병 공격수 챠디의 부진과 시즌 초 활약한 강수일의 침체, 시즌 중반에 영입한 세르...       강수일        24   \n",
       "4  람캄행 왕은 1237년에서 1247년 사이 수코타이의 왕 퍼쿤 씨 인트라팃과 쓰엉 ...       람캄행         0   \n",
       "\n",
       "   e1_end         e2  e2_start  e2_end     label  \n",
       "0      33        자동차        19      21     단체:제작  \n",
       "1       7        27석        42      44     관계_없음  \n",
       "2       7       UEFA         9      12     단체:별칭  \n",
       "3      26        공격수         3       5  인물:직업/직함  \n",
       "4       2  퍼쿤 씨 인트라팃        32      40    인물:부모님  "
      ],
      "text/html": "<div>\n<style scoped>\n    .dataframe tbody tr th:only-of-type {\n        vertical-align: middle;\n    }\n\n    .dataframe tbody tr th {\n        vertical-align: top;\n    }\n\n    .dataframe thead th {\n        text-align: right;\n    }\n</style>\n<table border=\"1\" class=\"dataframe\">\n  <thead>\n    <tr style=\"text-align: right;\">\n      <th></th>\n      <th>id</th>\n      <th>relation_state</th>\n      <th>e1</th>\n      <th>e1_start</th>\n      <th>e1_end</th>\n      <th>e2</th>\n      <th>e2_start</th>\n      <th>e2_end</th>\n      <th>label</th>\n    </tr>\n  </thead>\n  <tbody>\n    <tr>\n      <th>0</th>\n      <td>wikipedia-24896-25-30-33-19-21</td>\n      <td>영국에서 사용되는 스포츠 유틸리티 자동차의 브랜드로는 랜드로버(Land Rover)...</td>\n      <td>랜드로버</td>\n      <td>30</td>\n      <td>33</td>\n      <td>자동차</td>\n      <td>19</td>\n      <td>21</td>\n      <td>단체:제작</td>\n    </tr>\n    <tr>\n      <th>1</th>\n      <td>wikipedia-12728-224-5-7-42-44</td>\n      <td>선거에서 민주당은 해산 전 의석인 230석에 한참 못 미치는 57석(지역구 27석,...</td>\n      <td>민주당</td>\n      <td>5</td>\n      <td>7</td>\n      <td>27석</td>\n      <td>42</td>\n      <td>44</td>\n      <td>관계_없음</td>\n    </tr>\n    <tr>\n      <th>2</th>\n      <td>wikipedia-28460-3-0-7-9-12</td>\n      <td>유럽 축구 연맹(UEFA) 집행위원회는 2014년 1월 24일에 열린 회의를 통해 ...</td>\n      <td>유럽 축구 연맹</td>\n      <td>0</td>\n      <td>7</td>\n      <td>UEFA</td>\n      <td>9</td>\n      <td>12</td>\n      <td>단체:별칭</td>\n    </tr>\n    <tr>\n      <th>3</th>\n      <td>wikipedia-11479-37-24-26-3-5</td>\n      <td>용병 공격수 챠디의 부진과 시즌 초 활약한 강수일의 침체, 시즌 중반에 영입한 세르...</td>\n      <td>강수일</td>\n      <td>24</td>\n      <td>26</td>\n      <td>공격수</td>\n      <td>3</td>\n      <td>5</td>\n      <td>인물:직업/직함</td>\n    </tr>\n    <tr>\n      <th>4</th>\n      <td>wikipedia-15581-6-0-2-32-40</td>\n      <td>람캄행 왕은 1237년에서 1247년 사이 수코타이의 왕 퍼쿤 씨 인트라팃과 쓰엉 ...</td>\n      <td>람캄행</td>\n      <td>0</td>\n      <td>2</td>\n      <td>퍼쿤 씨 인트라팃</td>\n      <td>32</td>\n      <td>40</td>\n      <td>인물:부모님</td>\n    </tr>\n  </tbody>\n</table>\n</div>"
     },
     "metadata": {},
     "execution_count": 33
    }
   ],
   "source": [
    "COLUMNS = ['id', 'relation_state', 'e1', 'e1_start', 'e1_end', \n",
    "'e2', 'e2_start', 'e2_end', 'label']\n",
    "train = pd.read_csv(Config.Train, sep='\\t', header=None, names=COLUMNS)\n",
    "train.head()"
   ]
  },
  {
   "cell_type": "code",
   "execution_count": 35,
   "metadata": {},
   "outputs": [
    {
     "output_type": "execute_result",
     "data": {
      "text/plain": [
       "                               id  \\\n",
       "0    wikipedia-15133-19-0-2-45-46   \n",
       "1       wikitree-10241-0-0-4-9-11   \n",
       "2  wikipedia-24909-38-83-89-45-48   \n",
       "3    wikitree-29775-2-38-43-17-18   \n",
       "4    wikipedia-20874-21-8-9-30-32   \n",
       "\n",
       "                                      relation_state       e1  e1_start  \\\n",
       "0  이은주의 첫 영화로, 그녀가 강수연(정화 역)의 동생 세화 역으로 출연한 박종원 감...      이은주         0   \n",
       "1  경성대학교(총장 송수건) 미술학과 졸업예정 학생들이 부산 지역의 유망한 청년예술가에...    경성대학교         0   \n",
       "2  하더라도 만일 그녀의 아들에게 계승시킬 수 있다면 영국 왕 에드워드 2세의 왕비 이...  에드워드 3세        83   \n",
       "3  정성으로 담근 700포기의 김장김치는 발굴된 저소득 가정 55세대에 새마을부녀회 회...   새마을부녀회        38   \n",
       "4  노트북은 이들 정부에 판매될 것이며 \"하나의 노트북을 한 명의 어린이마다\"라는 정책...       정부         8   \n",
       "\n",
       "   e1_end    e2  e2_start  e2_end  \n",
       "0       2    감독        45      46  \n",
       "1       4   송수건         9      11  \n",
       "2      89  이사벨라        45      48  \n",
       "3      43    김치        17      18  \n",
       "4       9   한 명        30      32  "
      ],
      "text/html": "<div>\n<style scoped>\n    .dataframe tbody tr th:only-of-type {\n        vertical-align: middle;\n    }\n\n    .dataframe tbody tr th {\n        vertical-align: top;\n    }\n\n    .dataframe thead th {\n        text-align: right;\n    }\n</style>\n<table border=\"1\" class=\"dataframe\">\n  <thead>\n    <tr style=\"text-align: right;\">\n      <th></th>\n      <th>id</th>\n      <th>relation_state</th>\n      <th>e1</th>\n      <th>e1_start</th>\n      <th>e1_end</th>\n      <th>e2</th>\n      <th>e2_start</th>\n      <th>e2_end</th>\n    </tr>\n  </thead>\n  <tbody>\n    <tr>\n      <th>0</th>\n      <td>wikipedia-15133-19-0-2-45-46</td>\n      <td>이은주의 첫 영화로, 그녀가 강수연(정화 역)의 동생 세화 역으로 출연한 박종원 감...</td>\n      <td>이은주</td>\n      <td>0</td>\n      <td>2</td>\n      <td>감독</td>\n      <td>45</td>\n      <td>46</td>\n    </tr>\n    <tr>\n      <th>1</th>\n      <td>wikitree-10241-0-0-4-9-11</td>\n      <td>경성대학교(총장 송수건) 미술학과 졸업예정 학생들이 부산 지역의 유망한 청년예술가에...</td>\n      <td>경성대학교</td>\n      <td>0</td>\n      <td>4</td>\n      <td>송수건</td>\n      <td>9</td>\n      <td>11</td>\n    </tr>\n    <tr>\n      <th>2</th>\n      <td>wikipedia-24909-38-83-89-45-48</td>\n      <td>하더라도 만일 그녀의 아들에게 계승시킬 수 있다면 영국 왕 에드워드 2세의 왕비 이...</td>\n      <td>에드워드 3세</td>\n      <td>83</td>\n      <td>89</td>\n      <td>이사벨라</td>\n      <td>45</td>\n      <td>48</td>\n    </tr>\n    <tr>\n      <th>3</th>\n      <td>wikitree-29775-2-38-43-17-18</td>\n      <td>정성으로 담근 700포기의 김장김치는 발굴된 저소득 가정 55세대에 새마을부녀회 회...</td>\n      <td>새마을부녀회</td>\n      <td>38</td>\n      <td>43</td>\n      <td>김치</td>\n      <td>17</td>\n      <td>18</td>\n    </tr>\n    <tr>\n      <th>4</th>\n      <td>wikipedia-20874-21-8-9-30-32</td>\n      <td>노트북은 이들 정부에 판매될 것이며 \"하나의 노트북을 한 명의 어린이마다\"라는 정책...</td>\n      <td>정부</td>\n      <td>8</td>\n      <td>9</td>\n      <td>한 명</td>\n      <td>30</td>\n      <td>32</td>\n    </tr>\n  </tbody>\n</table>\n</div>"
     },
     "metadata": {},
     "execution_count": 35
    }
   ],
   "source": [
    "COLUMNS = ['id', 'relation_state', 'e1', 'e1_start', 'e1_end', \n",
    "'e2', 'e2_start', 'e2_end']\n",
    "test = pd.read_csv(Config.Test, sep='\\t', header=None).iloc[:, :-1]\n",
    "test.columns = COLUMNS\n",
    "test.head()"
   ]
  },
  {
   "cell_type": "code",
   "execution_count": 38,
   "metadata": {},
   "outputs": [
    {
     "output_type": "execute_result",
     "data": {
      "text/plain": [
       "                                     id  \\\n",
       "0          wikipedia-15133-19-0-2-45-46   \n",
       "1             wikitree-10241-0-0-4-9-11   \n",
       "2        wikipedia-24909-38-83-89-45-48   \n",
       "3          wikitree-29775-2-38-43-17-18   \n",
       "4          wikipedia-20874-21-8-9-30-32   \n",
       "..                                  ...   \n",
       "995       wikipedia-5911-11-14-18-21-23   \n",
       "996  wikipedia-17379-20-200-205-179-181   \n",
       "997        wikitree-59796-5-32-35-37-39   \n",
       "998          wikipedia-1829-41-9-10-0-1   \n",
       "999       wikipedia-15245-1-91-99-43-47   \n",
       "\n",
       "                                        relation_state         e1  e1_start  \\\n",
       "0    이은주의 첫 영화로, 그녀가 강수연(정화 역)의 동생 세화 역으로 출연한 박종원 감...        이은주         0   \n",
       "1    경성대학교(총장 송수건) 미술학과 졸업예정 학생들이 부산 지역의 유망한 청년예술가에...      경성대학교         0   \n",
       "2    하더라도 만일 그녀의 아들에게 계승시킬 수 있다면 영국 왕 에드워드 2세의 왕비 이...    에드워드 3세        83   \n",
       "3    정성으로 담근 700포기의 김장김치는 발굴된 저소득 가정 55세대에 새마을부녀회 회...     새마을부녀회        38   \n",
       "4    노트북은 이들 정부에 판매될 것이며 \"하나의 노트북을 한 명의 어린이마다\"라는 정책...         정부         8   \n",
       "..                                                 ...        ...       ...   \n",
       "995   1940년 7월 10일, 나치 독일의 프랑스 침공으로 국회는 페텡에게 권력을 위임했다.      나치 독일        14   \n",
       "996  (하지만 Vasco는 '스핏파이어(spit fire)(spit fire)'란 프로젝...     DJ DOC       200   \n",
       "997  또한 (사)한국여성농업인 광양시 연합회(도미화 회장)는 ㈜광양교통(이순심 대표)에,...       광양교통        32   \n",
       "998  마코가 항의하자 벵어는 마코를 배신자로 부르며 학생들에게 마코를 처형대로 끌어내도록...         벵어         9   \n",
       "999  도쿄도 출신으로 세이조 대학을 졸업, 1969년 12월 중의원 의원 총선거에 자유민...  나카소네 야스히로        91   \n",
       "\n",
       "     e1_end     e2  e2_start  e2_end  \n",
       "0         2     감독        45      46  \n",
       "1         4    송수건         9      11  \n",
       "2        89   이사벨라        45      48  \n",
       "3        43     김치        17      18  \n",
       "4         9    한 명        30      32  \n",
       "..      ...    ...       ...     ...  \n",
       "995      18    프랑스        21      23  \n",
       "996     205    박정환       179     181  \n",
       "997      35    이순심        37      39  \n",
       "998      10     마코         0       1  \n",
       "999      99  자유민주당        43      47  \n",
       "\n",
       "[1000 rows x 8 columns]"
      ],
      "text/html": "<div>\n<style scoped>\n    .dataframe tbody tr th:only-of-type {\n        vertical-align: middle;\n    }\n\n    .dataframe tbody tr th {\n        vertical-align: top;\n    }\n\n    .dataframe thead th {\n        text-align: right;\n    }\n</style>\n<table border=\"1\" class=\"dataframe\">\n  <thead>\n    <tr style=\"text-align: right;\">\n      <th></th>\n      <th>id</th>\n      <th>relation_state</th>\n      <th>e1</th>\n      <th>e1_start</th>\n      <th>e1_end</th>\n      <th>e2</th>\n      <th>e2_start</th>\n      <th>e2_end</th>\n    </tr>\n  </thead>\n  <tbody>\n    <tr>\n      <th>0</th>\n      <td>wikipedia-15133-19-0-2-45-46</td>\n      <td>이은주의 첫 영화로, 그녀가 강수연(정화 역)의 동생 세화 역으로 출연한 박종원 감...</td>\n      <td>이은주</td>\n      <td>0</td>\n      <td>2</td>\n      <td>감독</td>\n      <td>45</td>\n      <td>46</td>\n    </tr>\n    <tr>\n      <th>1</th>\n      <td>wikitree-10241-0-0-4-9-11</td>\n      <td>경성대학교(총장 송수건) 미술학과 졸업예정 학생들이 부산 지역의 유망한 청년예술가에...</td>\n      <td>경성대학교</td>\n      <td>0</td>\n      <td>4</td>\n      <td>송수건</td>\n      <td>9</td>\n      <td>11</td>\n    </tr>\n    <tr>\n      <th>2</th>\n      <td>wikipedia-24909-38-83-89-45-48</td>\n      <td>하더라도 만일 그녀의 아들에게 계승시킬 수 있다면 영국 왕 에드워드 2세의 왕비 이...</td>\n      <td>에드워드 3세</td>\n      <td>83</td>\n      <td>89</td>\n      <td>이사벨라</td>\n      <td>45</td>\n      <td>48</td>\n    </tr>\n    <tr>\n      <th>3</th>\n      <td>wikitree-29775-2-38-43-17-18</td>\n      <td>정성으로 담근 700포기의 김장김치는 발굴된 저소득 가정 55세대에 새마을부녀회 회...</td>\n      <td>새마을부녀회</td>\n      <td>38</td>\n      <td>43</td>\n      <td>김치</td>\n      <td>17</td>\n      <td>18</td>\n    </tr>\n    <tr>\n      <th>4</th>\n      <td>wikipedia-20874-21-8-9-30-32</td>\n      <td>노트북은 이들 정부에 판매될 것이며 \"하나의 노트북을 한 명의 어린이마다\"라는 정책...</td>\n      <td>정부</td>\n      <td>8</td>\n      <td>9</td>\n      <td>한 명</td>\n      <td>30</td>\n      <td>32</td>\n    </tr>\n    <tr>\n      <th>...</th>\n      <td>...</td>\n      <td>...</td>\n      <td>...</td>\n      <td>...</td>\n      <td>...</td>\n      <td>...</td>\n      <td>...</td>\n      <td>...</td>\n    </tr>\n    <tr>\n      <th>995</th>\n      <td>wikipedia-5911-11-14-18-21-23</td>\n      <td>1940년 7월 10일, 나치 독일의 프랑스 침공으로 국회는 페텡에게 권력을 위임했다.</td>\n      <td>나치 독일</td>\n      <td>14</td>\n      <td>18</td>\n      <td>프랑스</td>\n      <td>21</td>\n      <td>23</td>\n    </tr>\n    <tr>\n      <th>996</th>\n      <td>wikipedia-17379-20-200-205-179-181</td>\n      <td>(하지만 Vasco는 '스핏파이어(spit fire)(spit fire)'란 프로젝...</td>\n      <td>DJ DOC</td>\n      <td>200</td>\n      <td>205</td>\n      <td>박정환</td>\n      <td>179</td>\n      <td>181</td>\n    </tr>\n    <tr>\n      <th>997</th>\n      <td>wikitree-59796-5-32-35-37-39</td>\n      <td>또한 (사)한국여성농업인 광양시 연합회(도미화 회장)는 ㈜광양교통(이순심 대표)에,...</td>\n      <td>광양교통</td>\n      <td>32</td>\n      <td>35</td>\n      <td>이순심</td>\n      <td>37</td>\n      <td>39</td>\n    </tr>\n    <tr>\n      <th>998</th>\n      <td>wikipedia-1829-41-9-10-0-1</td>\n      <td>마코가 항의하자 벵어는 마코를 배신자로 부르며 학생들에게 마코를 처형대로 끌어내도록...</td>\n      <td>벵어</td>\n      <td>9</td>\n      <td>10</td>\n      <td>마코</td>\n      <td>0</td>\n      <td>1</td>\n    </tr>\n    <tr>\n      <th>999</th>\n      <td>wikipedia-15245-1-91-99-43-47</td>\n      <td>도쿄도 출신으로 세이조 대학을 졸업, 1969년 12월 중의원 의원 총선거에 자유민...</td>\n      <td>나카소네 야스히로</td>\n      <td>91</td>\n      <td>99</td>\n      <td>자유민주당</td>\n      <td>43</td>\n      <td>47</td>\n    </tr>\n  </tbody>\n</table>\n<p>1000 rows × 8 columns</p>\n</div>"
     },
     "metadata": {},
     "execution_count": 38
    }
   ],
   "source": [
    "test"
   ]
  },
  {
   "cell_type": "code",
   "execution_count": 3,
   "metadata": {},
   "outputs": [],
   "source": [
    "tokenizer = AutoTokenizer.from_pretrained(Config.BertMultiLingual)\n",
    "test_data = load_test_dataset(tokenizer=tokenizer)"
   ]
  },
  {
   "cell_type": "code",
   "execution_count": 5,
   "metadata": {},
   "outputs": [],
   "source": [
    "test = load_data(Config.Test)"
   ]
  },
  {
   "cell_type": "code",
   "execution_count": 22,
   "metadata": {},
   "outputs": [
    {
     "output_type": "execute_result",
     "data": {
      "text/plain": [
       "'이은주의 첫 영화로, 그녀가 강수연(정화 역)의 동생 세화 역으로 출연한 박종원 감독의 《송어》도 1998년에 촬영이 이루어졌다.'"
      ]
     },
     "metadata": {},
     "execution_count": 22
    }
   ],
   "source": [
    "test.iloc[0, 0]"
   ]
  },
  {
   "cell_type": "code",
   "execution_count": 15,
   "metadata": {},
   "outputs": [
    {
     "output_type": "execute_result",
     "data": {
      "text/plain": [
       "'[CLS] 이은주 [SEP] 감독 [SEP] 이은주의 첫 영화로, 그녀가 강수연 ( 정화 역 ) 의 동생 세화 역으로 출연한 박종원 감독의 《 송어 》 도 1998년에 촬영이 이루어졌다. [SEP] [PAD] [PAD] [PAD] [PAD] [PAD] [PAD] [PAD] [PAD] [PAD] [PAD] [PAD] [PAD] [PAD] [PAD] [PAD] [PAD] [PAD] [PAD] [PAD] [PAD] [PAD] [PAD] [PAD] [PAD] [PAD] [PAD] [PAD] [PAD] [PAD] [PAD] [PAD] [PAD] [PAD] [PAD] [PAD] [PAD] [PAD] [PAD] [PAD] [PAD] [PAD] [PAD] [PAD] [PAD] [PAD]'"
      ]
     },
     "metadata": {},
     "execution_count": 15
    }
   ],
   "source": [
    "tokenizer.decode(test_data[0]['input_ids'][0])"
   ]
  },
  {
   "cell_type": "code",
   "execution_count": 12,
   "metadata": {},
   "outputs": [],
   "source": [
    "# bert input을 위한 tokenizing.\n",
    "# tip! 다양한 종류의 tokenizer와 special token들을 활용하는 것으로도 새로운 시도를 해볼 수 있습니다.\n",
    "# baseline code에서는 2가지 부분을 활용했습니다.\n",
    "def tokenized_dataset(dataset, tokenizer):\n",
    "    concat_entity = []\n",
    "    for e01, e02 in zip(dataset[\"entity_01\"], dataset[\"entity_02\"]):\n",
    "        temp = \"\"\n",
    "        temp = e01 + \"[SEP]\" + e02\n",
    "        concat_entity.append(temp)\n",
    "    tokenized_sentences = tokenizer(\n",
    "        concat_entity,\n",
    "        list(dataset[\"sentence\"]),\n",
    "        return_tensors=\"pt\",\n",
    "        padding=True,\n",
    "        truncation=True,\n",
    "        max_length=100,\n",
    "        add_special_tokens=True,\n",
    "    )\n",
    "    return tokenized_sentences"
   ]
  },
  {
   "cell_type": "code",
   "execution_count": 10,
   "metadata": {},
   "outputs": [],
   "source": [
    "tokenizer = AutoTokenizer.from_pretrained(Config.BERTMultiLingual)\n",
    "train_dataset = load_data(Config.Train)"
   ]
  },
  {
   "cell_type": "code",
   "execution_count": 14,
   "metadata": {},
   "outputs": [],
   "source": [
    "train = tokenized_dataset(train_dataset, tokenizer=tokenizer)"
   ]
  },
  {
   "cell_type": "code",
   "execution_count": 26,
   "metadata": {},
   "outputs": [
    {
     "output_type": "execute_result",
     "data": {
      "text/plain": [
       "Encoding(num_tokens=100, attributes=[ids, type_ids, tokens, offsets, attention_mask, special_tokens_mask, overflowing])"
      ]
     },
     "metadata": {},
     "execution_count": 26
    }
   ],
   "source": [
    "train[0]"
   ]
  },
  {
   "cell_type": "code",
   "execution_count": 27,
   "metadata": {},
   "outputs": [],
   "source": [
    "train_label = train_dataset[\"label\"].values"
   ]
  }
 ]
}